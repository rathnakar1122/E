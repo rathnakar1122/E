{
 "cells": [
  {
   "cell_type": "code",
   "execution_count": null,
   "metadata": {},
   "outputs": [],
   "source": [
    "List what is List.\n",
    "clear().remove all the elements from the list:\n",
    "fruits=['apple','banana']\n",
    "print(\"before clear:\",fruits)\n",
    "fruits.clear()\n",
    "print(\"after clear:\",fruits)\n",
    "\n",
    "# ################################################\n",
    "# count: the count() methods returns the number of specified value appears in the list\n",
    "# fruits = ['apple', 'banana', 'cherry', 'apple', 'cherry']\n",
    "# x=fruits.count(\"apple\")\n",
    "# print(x)\n",
    "# ###############################################\n",
    "#pop The pop is a method removes and return the element at the specified position , if no index is specified , it removes the last item\n",
    "# my_list =[ 1,2,3,4,5]\n",
    "# popped_element = my_list.pop(2)\n",
    "# print(popped_element)\n",
    "# print(my_list)\n",
    "#############################################\n",
    "#remove method removes the first occurence of the specified value \n",
    "# my_list =[ 1,2,3,4,5]\n",
    "# my_list.remove(2)\n",
    "# print(my_list)\n",
    "###############################################\n",
    "# #reverse is method it revese the elemnets of the list element \n",
    "# my_list = [1,2,3,4,5,6,7]\n",
    "# my_list.reverse()\n",
    "# print(my_list)\n",
    "########################################\n",
    "# #sort() sort is the element of the list in ascending order of the list \n",
    "# my_list = [ 9,5,8,4,8,3,7,6,2,1]\n",
    "# my_list.sort()\n",
    "\n",
    "# print(my_list)\n",
    "\n",
    "my_list = [4, 2, 1, 3]\n",
    "my_list.sort()\n",
    "print(my_list)  \n",
    "\n",
    "\n",
    "\n",
    "\n",
    "\n",
    "\n"
   ]
  },
  {
   "cell_type": "code",
   "execution_count": 1,
   "metadata": {},
   "outputs": [
    {
     "name": "stdout",
     "output_type": "stream",
     "text": [
      "['apple', 'banana', 'cherry', 'apple', 'cherry']\n"
     ]
    }
   ],
   "source": [
    "#############################################\n",
    "#copy :- return the copy of the list, the copy method return a shallow copy of the list. it create a new list with the same elements \n",
    "fruits = ['apple', 'banana', 'cherry', 'apple', 'cherry']\n",
    "x=fruits.copy()\n",
    "print(x)"
   ]
  }
 ],
 "metadata": {
  "kernelspec": {
   "display_name": "ENV",
   "language": "python",
   "name": "python3"
  },
  "language_info": {
   "codemirror_mode": {
    "name": "ipython",
    "version": 3
   },
   "file_extension": ".py",
   "mimetype": "text/x-python",
   "name": "python",
   "nbconvert_exporter": "python",
   "pygments_lexer": "ipython3",
   "version": "3.10.11"
  }
 },
 "nbformat": 4,
 "nbformat_minor": 2
}
